{
 "cells": [
  {
   "cell_type": "markdown",
   "metadata": {},
   "source": [
    "# Import Tensorflow"
   ]
  },
  {
   "cell_type": "code",
   "execution_count": 1,
   "metadata": {},
   "outputs": [],
   "source": [
    "import tensorflow as tf"
   ]
  },
  {
   "cell_type": "markdown",
   "metadata": {},
   "source": [
    "## Tensor bernilai random dengan shape (5, 5)"
   ]
  },
  {
   "cell_type": "markdown",
   "metadata": {},
   "source": [
    "### 1. Metode random.normal"
   ]
  },
  {
   "cell_type": "code",
   "execution_count": 3,
   "metadata": {},
   "outputs": [
    {
     "data": {
      "text/plain": [
       "<tf.Tensor: shape=(5, 5), dtype=float32, numpy=\n",
       "array([[ 0.29763275,  0.85498464,  0.09854912, -2.7126358 , -0.24042815],\n",
       "       [-1.1271733 , -0.8683328 , -1.1545057 , -0.5827167 , -0.7756453 ],\n",
       "       [ 0.77041763,  1.3126546 ,  0.29093707, -1.0784489 , -0.4293769 ],\n",
       "       [ 0.46234745,  1.4649199 , -0.9163859 , -0.8367941 , -0.44611695],\n",
       "       [ 0.5122678 ,  0.5717116 , -0.3560064 , -0.03834996, -0.5251247 ]],\n",
       "      dtype=float32)>"
      ]
     },
     "execution_count": 3,
     "metadata": {},
     "output_type": "execute_result"
    }
   ],
   "source": [
    "random_tensor = tf.random.normal([5, 5])\n",
    "random_tensor"
   ]
  },
  {
   "cell_type": "markdown",
   "metadata": {},
   "source": [
    "### 2. Metode random.uniform"
   ]
  },
  {
   "cell_type": "code",
   "execution_count": 4,
   "metadata": {},
   "outputs": [
    {
     "data": {
      "text/plain": [
       "<tf.Tensor: shape=(5, 5), dtype=float32, numpy=\n",
       "array([[0.38000906, 0.01690042, 0.46101856, 0.63152313, 0.9323783 ],\n",
       "       [0.560354  , 0.23430037, 0.9481448 , 0.41055346, 0.99287283],\n",
       "       [0.6075758 , 0.87704134, 0.3661852 , 0.73796856, 0.24635792],\n",
       "       [0.21938908, 0.32215166, 0.06580174, 0.5901984 , 0.5653715 ],\n",
       "       [0.9721272 , 0.9195545 , 0.02515137, 0.02007091, 0.6003431 ]],\n",
       "      dtype=float32)>"
      ]
     },
     "execution_count": 4,
     "metadata": {},
     "output_type": "execute_result"
    }
   ],
   "source": [
    "random_tensor = tf.random.uniform([5, 5])\n",
    "random_tensor"
   ]
  },
  {
   "cell_type": "markdown",
   "metadata": {},
   "source": [
    "## Tensor bernilai bilangan prima dengan shape (5, 5)"
   ]
  },
  {
   "cell_type": "code",
   "execution_count": 11,
   "metadata": {},
   "outputs": [
    {
     "data": {
      "text/plain": [
       "array([[ 2.,  3.,  5.,  7., 11.],\n",
       "       [13., 17., 19., 23., 29.],\n",
       "       [31., 37., 41., 43., 47.],\n",
       "       [53., 59., 61., 67., 71.],\n",
       "       [73., 79., 83., 89., 97.]], dtype=float32)"
      ]
     },
     "execution_count": 11,
     "metadata": {},
     "output_type": "execute_result"
    }
   ],
   "source": [
    "prime_tensor = tf.constant([2, 3, 5, 7, 11, 13, 17, 19, 23, 29, 31, 37, 41, 43, 47, 53, 59, 61, 67, 71, 73, 79, 83, 89, 97], shape=[5, 5], dtype=tf.float32)\n",
    "prime_tensor.numpy()"
   ]
  },
  {
   "cell_type": "markdown",
   "metadata": {},
   "source": [
    "## Menampilkan dimensi dari kedua variabel tensor diatas"
   ]
  },
  {
   "cell_type": "markdown",
   "metadata": {},
   "source": [
    "### 1. Dimensi tensor random"
   ]
  },
  {
   "cell_type": "code",
   "execution_count": 12,
   "metadata": {},
   "outputs": [
    {
     "data": {
      "text/plain": [
       "TensorShape([5, 5])"
      ]
     },
     "execution_count": 12,
     "metadata": {},
     "output_type": "execute_result"
    }
   ],
   "source": [
    "random_tensor.get_shape()"
   ]
  },
  {
   "cell_type": "markdown",
   "metadata": {},
   "source": [
    "### 2. Dimensi tensor bilangan prima"
   ]
  },
  {
   "cell_type": "code",
   "execution_count": 13,
   "metadata": {},
   "outputs": [
    {
     "data": {
      "text/plain": [
       "TensorShape([5, 5])"
      ]
     },
     "execution_count": 13,
     "metadata": {},
     "output_type": "execute_result"
    }
   ],
   "source": [
    "prime_tensor.shape"
   ]
  },
  {
   "cell_type": "markdown",
   "metadata": {},
   "source": [
    "##  Hasil perhitungan aritmetika dari 2 variable"
   ]
  },
  {
   "cell_type": "markdown",
   "metadata": {},
   "source": [
    "### 1. Penjumlahan"
   ]
  },
  {
   "cell_type": "code",
   "execution_count": 14,
   "metadata": {},
   "outputs": [
    {
     "data": {
      "text/plain": [
       "<tf.Tensor: shape=(5, 5), dtype=float32, numpy=\n",
       "array([[ 2.3800092,  3.0169005,  5.4610186,  7.631523 , 11.932379 ],\n",
       "       [13.560354 , 17.2343   , 19.948145 , 23.410553 , 29.992872 ],\n",
       "       [31.607576 , 37.87704  , 41.366184 , 43.73797  , 47.246357 ],\n",
       "       [53.21939  , 59.32215  , 61.065804 , 67.590195 , 71.56537  ],\n",
       "       [73.97213  , 79.919556 , 83.025154 , 89.02007  , 97.60034  ]],\n",
       "      dtype=float32)>"
      ]
     },
     "execution_count": 14,
     "metadata": {},
     "output_type": "execute_result"
    }
   ],
   "source": [
    "tf.add(random_tensor, prime_tensor)"
   ]
  },
  {
   "cell_type": "markdown",
   "metadata": {},
   "source": [
    "### 2. Pengurangan"
   ]
  },
  {
   "cell_type": "code",
   "execution_count": 15,
   "metadata": {},
   "outputs": [
    {
     "data": {
      "text/plain": [
       "<tf.Tensor: shape=(5, 5), dtype=float32, numpy=\n",
       "array([[ -1.619991 ,  -2.9830995,  -4.5389814,  -6.368477 , -10.067621 ],\n",
       "       [-12.439646 , -16.7657   , -18.051855 , -22.589447 , -28.007128 ],\n",
       "       [-30.392424 , -36.12296  , -40.633816 , -42.26203  , -46.753643 ],\n",
       "       [-52.78061  , -58.67785  , -60.934196 , -66.409805 , -70.43463  ],\n",
       "       [-72.02787  , -78.080444 , -82.974846 , -88.97993  , -96.39966  ]],\n",
       "      dtype=float32)>"
      ]
     },
     "execution_count": 15,
     "metadata": {},
     "output_type": "execute_result"
    }
   ],
   "source": [
    "tf.subtract(random_tensor, prime_tensor)"
   ]
  },
  {
   "cell_type": "markdown",
   "metadata": {},
   "source": [
    "### 3. Perkalian"
   ]
  },
  {
   "cell_type": "code",
   "execution_count": 16,
   "metadata": {},
   "outputs": [
    {
     "data": {
      "text/plain": [
       "<tf.Tensor: shape=(5, 5), dtype=float32, numpy=\n",
       "array([[7.6001811e-01, 5.0701261e-02, 2.3050928e+00, 4.4206619e+00,\n",
       "        1.0256161e+01],\n",
       "       [7.2846022e+00, 3.9831064e+00, 1.8014751e+01, 9.4427299e+00,\n",
       "        2.8793312e+01],\n",
       "       [1.8834848e+01, 3.2450531e+01, 1.5013593e+01, 3.1732649e+01,\n",
       "        1.1578822e+01],\n",
       "       [1.1627622e+01, 1.9006948e+01, 4.0139060e+00, 3.9543293e+01,\n",
       "        4.0141376e+01],\n",
       "       [7.0965286e+01, 7.2644806e+01, 2.0875640e+00, 1.7863110e+00,\n",
       "        5.8233280e+01]], dtype=float32)>"
      ]
     },
     "execution_count": 16,
     "metadata": {},
     "output_type": "execute_result"
    }
   ],
   "source": [
    "tf.multiply(random_tensor, prime_tensor)"
   ]
  },
  {
   "cell_type": "markdown",
   "metadata": {},
   "source": [
    "### 4. Pembagian"
   ]
  },
  {
   "cell_type": "code",
   "execution_count": 17,
   "metadata": {},
   "outputs": [
    {
     "data": {
      "text/plain": [
       "<tf.Tensor: shape=(5, 5), dtype=float32, numpy=\n",
       "array([[   5.2630324,  177.51038  ,   10.845551 ,   11.084312 ,\n",
       "          11.797787 ],\n",
       "       [  23.199621 ,   72.556435 ,   20.039133 ,   56.02194  ,\n",
       "          29.208172 ],\n",
       "       [  51.02244  ,   42.187294 ,  111.9652   ,   58.268066 ,\n",
       "         190.77934  ],\n",
       "       [ 241.57994  ,  183.14355  ,  927.02716  ,  113.52115  ,\n",
       "         125.58114  ],\n",
       "       [  75.093056 ,   85.91117  , 3300.0188   , 4434.2783   ,\n",
       "         161.57426  ]], dtype=float32)>"
      ]
     },
     "execution_count": 17,
     "metadata": {},
     "output_type": "execute_result"
    }
   ],
   "source": [
    "tf.divide(prime_tensor, random_tensor)"
   ]
  },
  {
   "cell_type": "markdown",
   "metadata": {},
   "source": [
    "### 5. Modulus"
   ]
  },
  {
   "cell_type": "code",
   "execution_count": 23,
   "metadata": {},
   "outputs": [
    {
     "data": {
      "text/plain": [
       "<tf.Tensor: shape=(5, 5), dtype=float32, numpy=\n",
       "array([[0.38000906, 0.01690042, 0.46101856, 0.63152313, 0.9323783 ],\n",
       "       [0.560354  , 0.23430037, 0.9481448 , 0.41055346, 0.99287283],\n",
       "       [0.6075758 , 0.87704134, 0.3661852 , 0.73796856, 0.24635792],\n",
       "       [0.21938908, 0.32215166, 0.06580174, 0.5901984 , 0.5653715 ],\n",
       "       [0.9721272 , 0.9195545 , 0.02515137, 0.02007091, 0.6003431 ]],\n",
       "      dtype=float32)>"
      ]
     },
     "execution_count": 23,
     "metadata": {},
     "output_type": "execute_result"
    }
   ],
   "source": [
    "tf.truncatemod(random_tensor, prime_tensor)"
   ]
  },
  {
   "cell_type": "markdown",
   "metadata": {},
   "source": [
    "## Nilai maksimal dan minimal dari variable random_tensor"
   ]
  },
  {
   "cell_type": "markdown",
   "metadata": {},
   "source": [
    "### 1. Nilai Maksimum"
   ]
  },
  {
   "cell_type": "code",
   "execution_count": 31,
   "metadata": {},
   "outputs": [
    {
     "data": {
      "text/plain": [
       "<tf.Tensor: shape=(), dtype=float32, numpy=0.99287283>"
      ]
     },
     "execution_count": 31,
     "metadata": {},
     "output_type": "execute_result"
    }
   ],
   "source": [
    "tf.reduce_max(random_tensor, axis=None)"
   ]
  },
  {
   "cell_type": "markdown",
   "metadata": {},
   "source": [
    "### 2. Nilai Minimum"
   ]
  },
  {
   "cell_type": "code",
   "execution_count": 32,
   "metadata": {},
   "outputs": [
    {
     "data": {
      "text/plain": [
       "<tf.Tensor: shape=(), dtype=float32, numpy=0.01690042>"
      ]
     },
     "execution_count": 32,
     "metadata": {},
     "output_type": "execute_result"
    }
   ],
   "source": [
    "tf.reduce_min(random_tensor, axis=None)"
   ]
  },
  {
   "cell_type": "markdown",
   "metadata": {},
   "source": [
    "## Penggabungan variable random_tensor dengan prime_tensor (concatenation)"
   ]
  },
  {
   "cell_type": "code",
   "execution_count": 36,
   "metadata": {},
   "outputs": [
    {
     "data": {
      "text/plain": [
       "<tf.Tensor: shape=(10, 5), dtype=float32, numpy=\n",
       "array([[3.8000906e-01, 1.6900420e-02, 4.6101856e-01, 6.3152313e-01,\n",
       "        9.3237829e-01],\n",
       "       [5.6035399e-01, 2.3430037e-01, 9.4814479e-01, 4.1055346e-01,\n",
       "        9.9287283e-01],\n",
       "       [6.0757577e-01, 8.7704134e-01, 3.6618519e-01, 7.3796856e-01,\n",
       "        2.4635792e-01],\n",
       "       [2.1938908e-01, 3.2215166e-01, 6.5801740e-02, 5.9019840e-01,\n",
       "        5.6537151e-01],\n",
       "       [9.7212720e-01, 9.1955447e-01, 2.5151372e-02, 2.0070910e-02,\n",
       "        6.0034311e-01],\n",
       "       [2.0000000e+00, 3.0000000e+00, 5.0000000e+00, 7.0000000e+00,\n",
       "        1.1000000e+01],\n",
       "       [1.3000000e+01, 1.7000000e+01, 1.9000000e+01, 2.3000000e+01,\n",
       "        2.9000000e+01],\n",
       "       [3.1000000e+01, 3.7000000e+01, 4.1000000e+01, 4.3000000e+01,\n",
       "        4.7000000e+01],\n",
       "       [5.3000000e+01, 5.9000000e+01, 6.1000000e+01, 6.7000000e+01,\n",
       "        7.1000000e+01],\n",
       "       [7.3000000e+01, 7.9000000e+01, 8.3000000e+01, 8.9000000e+01,\n",
       "        9.7000000e+01]], dtype=float32)>"
      ]
     },
     "execution_count": 36,
     "metadata": {},
     "output_type": "execute_result"
    }
   ],
   "source": [
    "tf.concat([random_tensor, prime_tensor], axis=0)"
   ]
  },
  {
   "cell_type": "markdown",
   "metadata": {},
   "source": [
    "## Sorting dari kedua variable di atas. (descending)"
   ]
  },
  {
   "cell_type": "markdown",
   "metadata": {},
   "source": [
    "### 1. Sort random_tensor"
   ]
  },
  {
   "cell_type": "code",
   "execution_count": 37,
   "metadata": {},
   "outputs": [
    {
     "data": {
      "text/plain": [
       "<tf.Tensor: shape=(5, 5), dtype=float32, numpy=\n",
       "array([[0.9323783 , 0.63152313, 0.46101856, 0.38000906, 0.01690042],\n",
       "       [0.99287283, 0.9481448 , 0.560354  , 0.41055346, 0.23430037],\n",
       "       [0.87704134, 0.73796856, 0.6075758 , 0.3661852 , 0.24635792],\n",
       "       [0.5901984 , 0.5653715 , 0.32215166, 0.21938908, 0.06580174],\n",
       "       [0.9721272 , 0.9195545 , 0.6003431 , 0.02515137, 0.02007091]],\n",
       "      dtype=float32)>"
      ]
     },
     "execution_count": 37,
     "metadata": {},
     "output_type": "execute_result"
    }
   ],
   "source": [
    "tf.sort(random_tensor, direction=\"DESCENDING\")"
   ]
  },
  {
   "cell_type": "markdown",
   "metadata": {},
   "source": [
    "### 2. Sort prime_tensor"
   ]
  },
  {
   "cell_type": "code",
   "execution_count": 39,
   "metadata": {},
   "outputs": [
    {
     "data": {
      "text/plain": [
       "<tf.Tensor: shape=(5, 5), dtype=float32, numpy=\n",
       "array([[11.,  7.,  5.,  3.,  2.],\n",
       "       [29., 23., 19., 17., 13.],\n",
       "       [47., 43., 41., 37., 31.],\n",
       "       [71., 67., 61., 59., 53.],\n",
       "       [97., 89., 83., 79., 73.]], dtype=float32)>"
      ]
     },
     "execution_count": 39,
     "metadata": {},
     "output_type": "execute_result"
    }
   ],
   "source": [
    "tf.sort(prime_tensor, direction=\"DESCENDING\")"
   ]
  }
 ],
 "metadata": {
  "kernelspec": {
   "display_name": "Python 3 (ipykernel)",
   "language": "python",
   "name": "python3"
  },
  "language_info": {
   "codemirror_mode": {
    "name": "ipython",
    "version": 3
   },
   "file_extension": ".py",
   "mimetype": "text/x-python",
   "name": "python",
   "nbconvert_exporter": "python",
   "pygments_lexer": "ipython3",
   "version": "3.10.7"
  },
  "orig_nbformat": 4
 },
 "nbformat": 4,
 "nbformat_minor": 2
}
