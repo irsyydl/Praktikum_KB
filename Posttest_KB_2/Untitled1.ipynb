{
 "cells": [
  {
   "cell_type": "markdown",
   "id": "359fdc2b-b9d1-41cc-82db-4fa3813c135a",
   "metadata": {},
   "source": [
    "# Nama : M. Irsyadul. Asyrof"
   ]
  },
  {
   "cell_type": "markdown",
   "id": "8e2e54e8-9df9-4c97-83df-41ad84c2ed11",
   "metadata": {},
   "source": [
    "# Nim : 2109106047"
   ]
  },
  {
   "cell_type": "markdown",
   "id": "e7785f39-d054-446f-a4b4-d87a9d04cf48",
   "metadata": {},
   "source": [
    "## Import Library\n"
   ]
  },
  {
   "cell_type": "code",
   "execution_count": 33,
   "id": "cdc3b4f0-354b-4f54-b544-79359ba60297",
   "metadata": {},
   "outputs": [],
   "source": [
    "import pandas as pd"
   ]
  },
  {
   "cell_type": "code",
   "execution_count": 34,
   "id": "1f5331b0-1cf8-4e2b-a9c7-95d25ab6e060",
   "metadata": {},
   "outputs": [],
   "source": [
    "import numpy as np"
   ]
  },
  {
   "cell_type": "code",
   "execution_count": 55,
   "id": "5489f8b1-e2bc-4cf4-b286-6093cfa9ebe4",
   "metadata": {},
   "outputs": [],
   "source": [
    "df = pd.read_csv(\"dataset.csv\")"
   ]
  },
  {
   "cell_type": "markdown",
   "id": "cd4c5018-5594-47ec-ad60-6ed80ca1bf1f",
   "metadata": {},
   "source": [
    "## Memasukkan ke dalam dictionary"
   ]
  },
  {
   "cell_type": "code",
   "execution_count": null,
   "id": "6bc14deb-ef29-432c-ada4-64544f7891a5",
   "metadata": {},
   "outputs": [],
   "source": [
    "info = {\n",
    "  'total_records': 0,\n",
    "  'atribut': [],\n",
    "  'object': 0,\n",
    "  'number': 0,\n",
    "  'null': 0\n",
    "}\n",
    "\n",
    "info['total_records'] = df.shape[0]\n",
    "info['atribut'] = list(df.columns.values)\n",
    "info['null_atr'] = list(df.loc[:, df.isnull().any()].columns)\n",
    "info['object_atr'] = list(df.select_dtypes(['object']).columns)\n",
    "info['number_atr'] = list(df.select_dtypes(['float64', 'int64']).columns)"
   ]
  },
  {
   "cell_type": "markdown",
   "id": "0e32f62b-c519-4e48-8ff7-dbd967701a0b",
   "metadata": {},
   "source": [
    "## Jumlah Record"
   ]
  },
  {
   "cell_type": "code",
   "execution_count": 57,
   "id": "4020698f-1b30-4b15-ba23-79d2ebd0b5d6",
   "metadata": {},
   "outputs": [
    {
     "name": "stdout",
     "output_type": "stream",
     "text": [
      "Jumlah Record : 16671\n"
     ]
    }
   ],
   "source": [
    "print (\"Jumlah Record :\", info['total_records'] )"
   ]
  },
  {
   "cell_type": "markdown",
   "id": "452df585-0ccc-46b5-91bc-cf01cd249a86",
   "metadata": {},
   "source": [
    "## Nama Atribut Dan Jumlahnya"
   ]
  },
  {
   "cell_type": "code",
   "execution_count": 38,
   "id": "0ac9de27-51b3-4f7f-99df-1c6dfe5eeb58",
   "metadata": {},
   "outputs": [
    {
     "name": "stdout",
     "output_type": "stream",
     "text": [
      "Nama Atribut: ['lat', 'lon', 'alt', 'is_broken', 'is_active', 'dot', 'state', 'city', 'street', 'country', 'last_checked']\n",
      "Jumlah Atribut : 11\n"
     ]
    }
   ],
   "source": [
    "print (\"Nama Atribut:\", info['atribut'])\n",
    "print (\"Jumlah Atribut :\", len(info['atribut']))"
   ]
  },
  {
   "cell_type": "code",
   "execution_count": 39,
   "id": "f8820da3-8b83-44eb-a2d8-0420e78c0119",
   "metadata": {},
   "outputs": [
    {
     "name": "stdout",
     "output_type": "stream",
     "text": [
      "Jumlah Atribut dengan Tipe Objek : ['dot', 'state', 'city', 'street', 'country', 'last_checked'] Berjumlah 6 Atribut\n"
     ]
    }
   ],
   "source": [
    "print (\"Jumlah Atribut dengan Tipe Objek :\", info['object_atr'], \"Berjumlah\",len(info['object_atr']), \"Atribut\")"
   ]
  },
  {
   "cell_type": "code",
   "execution_count": 58,
   "id": "a15278f1-9ef5-4536-8dbf-f762106f70d2",
   "metadata": {},
   "outputs": [
    {
     "name": "stdout",
     "output_type": "stream",
     "text": [
      "Jumlah Attribute dengan Tipe Angka : ['lat', 'lon', 'alt'] Berjumlah 3 Atribut\n"
     ]
    }
   ],
   "source": [
    "print (\"Jumlah Attribute dengan Tipe Angka :\", info['number_atr'], \"Berjumlah\", len(info['number_atr']),\"Atribut\")"
   ]
  },
  {
   "cell_type": "markdown",
   "id": "8030721e-7cfc-405c-b292-6753a0f06b0f",
   "metadata": {},
   "source": [
    "## Jumlah Atribut Bernilai NULL"
   ]
  },
  {
   "cell_type": "code",
   "execution_count": 59,
   "id": "370faed6-fb70-4dc6-84a7-1be6f0d1ff4b",
   "metadata": {},
   "outputs": [
    {
     "name": "stdout",
     "output_type": "stream",
     "text": [
      "Jumlah Attribute yang Memiliki Nilai Null : ['state', 'city'] Berjumlah 2 Atribut\n"
     ]
    }
   ],
   "source": [
    "print (\"Jumlah Attribute yang Memiliki Nilai Null :\", info['null_atr'], \"Berjumlah\", len(info['null_atr']), \"Atribut\")"
   ]
  },
  {
   "cell_type": "markdown",
   "id": "b8198052-0cc4-40b2-87e7-02e0801ccd68",
   "metadata": {},
   "source": [
    "## Rata-Rata, Standar Deviasi, Nilai Minimum, Nilai Maksimum, Q1, Q2, dan Q3 Dari Attribute Bertipe Angka."
   ]
  },
  {
   "cell_type": "code",
   "execution_count": 42,
   "id": "c3131b0a-e061-4dfe-9e72-8a6f30f20b96",
   "metadata": {},
   "outputs": [
    {
     "data": {
      "text/html": [
       "<div>\n",
       "<style scoped>\n",
       "    .dataframe tbody tr th:only-of-type {\n",
       "        vertical-align: middle;\n",
       "    }\n",
       "\n",
       "    .dataframe tbody tr th {\n",
       "        vertical-align: top;\n",
       "    }\n",
       "\n",
       "    .dataframe thead th {\n",
       "        text-align: right;\n",
       "    }\n",
       "</style>\n",
       "<table border=\"1\" class=\"dataframe\">\n",
       "  <thead>\n",
       "    <tr style=\"text-align: right;\">\n",
       "      <th></th>\n",
       "      <th>lat</th>\n",
       "      <th>lon</th>\n",
       "      <th>alt</th>\n",
       "    </tr>\n",
       "  </thead>\n",
       "  <tbody>\n",
       "    <tr>\n",
       "      <th>count</th>\n",
       "      <td>16671.000000</td>\n",
       "      <td>16671.000000</td>\n",
       "      <td>16671.0</td>\n",
       "    </tr>\n",
       "    <tr>\n",
       "      <th>mean</th>\n",
       "      <td>-76.600800</td>\n",
       "      <td>40.406232</td>\n",
       "      <td>0.0</td>\n",
       "    </tr>\n",
       "    <tr>\n",
       "      <th>std</th>\n",
       "      <td>37.309030</td>\n",
       "      <td>7.250517</td>\n",
       "      <td>0.0</td>\n",
       "    </tr>\n",
       "    <tr>\n",
       "      <th>min</th>\n",
       "      <td>-159.368738</td>\n",
       "      <td>19.517590</td>\n",
       "      <td>0.0</td>\n",
       "    </tr>\n",
       "    <tr>\n",
       "      <th>25%</th>\n",
       "      <td>-95.572842</td>\n",
       "      <td>34.927834</td>\n",
       "      <td>0.0</td>\n",
       "    </tr>\n",
       "    <tr>\n",
       "      <th>50%</th>\n",
       "      <td>-83.780231</td>\n",
       "      <td>40.213555</td>\n",
       "      <td>0.0</td>\n",
       "    </tr>\n",
       "    <tr>\n",
       "      <th>75%</th>\n",
       "      <td>-75.261739</td>\n",
       "      <td>44.860442</td>\n",
       "      <td>0.0</td>\n",
       "    </tr>\n",
       "    <tr>\n",
       "      <th>max</th>\n",
       "      <td>14.968594</td>\n",
       "      <td>64.859406</td>\n",
       "      <td>0.0</td>\n",
       "    </tr>\n",
       "  </tbody>\n",
       "</table>\n",
       "</div>"
      ],
      "text/plain": [
       "                lat           lon      alt\n",
       "count  16671.000000  16671.000000  16671.0\n",
       "mean     -76.600800     40.406232      0.0\n",
       "std       37.309030      7.250517      0.0\n",
       "min     -159.368738     19.517590      0.0\n",
       "25%      -95.572842     34.927834      0.0\n",
       "50%      -83.780231     40.213555      0.0\n",
       "75%      -75.261739     44.860442      0.0\n",
       "max       14.968594     64.859406      0.0"
      ]
     },
     "execution_count": 42,
     "metadata": {},
     "output_type": "execute_result"
    }
   ],
   "source": [
    "df.describe()"
   ]
  },
  {
   "cell_type": "markdown",
   "id": "b02974f7-f066-4bfc-af8a-a2eff5cfe96b",
   "metadata": {},
   "source": [
    "# Nilai Korelasi Dari Atribut Bertipe Angka"
   ]
  },
  {
   "cell_type": "code",
   "execution_count": 45,
   "id": "9a6d6e18-f403-4ce4-b5d3-9aee2d789d7e",
   "metadata": {},
   "outputs": [
    {
     "name": "stderr",
     "output_type": "stream",
     "text": [
      "C:\\Users\\1\\AppData\\Local\\Temp\\ipykernel_14956\\1134722465.py:1: FutureWarning: The default value of numeric_only in DataFrame.corr is deprecated. In a future version, it will default to False. Select only valid columns or specify the value of numeric_only to silence this warning.\n",
      "  df.corr()\n"
     ]
    },
    {
     "data": {
      "text/html": [
       "<div>\n",
       "<style scoped>\n",
       "    .dataframe tbody tr th:only-of-type {\n",
       "        vertical-align: middle;\n",
       "    }\n",
       "\n",
       "    .dataframe tbody tr th {\n",
       "        vertical-align: top;\n",
       "    }\n",
       "\n",
       "    .dataframe thead th {\n",
       "        text-align: right;\n",
       "    }\n",
       "</style>\n",
       "<table border=\"1\" class=\"dataframe\">\n",
       "  <thead>\n",
       "    <tr style=\"text-align: right;\">\n",
       "      <th></th>\n",
       "      <th>lat</th>\n",
       "      <th>lon</th>\n",
       "      <th>alt</th>\n",
       "      <th>is_broken</th>\n",
       "      <th>is_active</th>\n",
       "    </tr>\n",
       "  </thead>\n",
       "  <tbody>\n",
       "    <tr>\n",
       "      <th>lat</th>\n",
       "      <td>1.000000</td>\n",
       "      <td>0.621523</td>\n",
       "      <td>NaN</td>\n",
       "      <td>0.056694</td>\n",
       "      <td>0.005385</td>\n",
       "    </tr>\n",
       "    <tr>\n",
       "      <th>lon</th>\n",
       "      <td>0.621523</td>\n",
       "      <td>1.000000</td>\n",
       "      <td>NaN</td>\n",
       "      <td>0.021749</td>\n",
       "      <td>0.056888</td>\n",
       "    </tr>\n",
       "    <tr>\n",
       "      <th>alt</th>\n",
       "      <td>NaN</td>\n",
       "      <td>NaN</td>\n",
       "      <td>NaN</td>\n",
       "      <td>NaN</td>\n",
       "      <td>NaN</td>\n",
       "    </tr>\n",
       "    <tr>\n",
       "      <th>is_broken</th>\n",
       "      <td>0.056694</td>\n",
       "      <td>0.021749</td>\n",
       "      <td>NaN</td>\n",
       "      <td>1.000000</td>\n",
       "      <td>0.049452</td>\n",
       "    </tr>\n",
       "    <tr>\n",
       "      <th>is_active</th>\n",
       "      <td>0.005385</td>\n",
       "      <td>0.056888</td>\n",
       "      <td>NaN</td>\n",
       "      <td>0.049452</td>\n",
       "      <td>1.000000</td>\n",
       "    </tr>\n",
       "  </tbody>\n",
       "</table>\n",
       "</div>"
      ],
      "text/plain": [
       "                lat       lon  alt  is_broken  is_active\n",
       "lat        1.000000  0.621523  NaN   0.056694   0.005385\n",
       "lon        0.621523  1.000000  NaN   0.021749   0.056888\n",
       "alt             NaN       NaN  NaN        NaN        NaN\n",
       "is_broken  0.056694  0.021749  NaN   1.000000   0.049452\n",
       "is_active  0.005385  0.056888  NaN   0.049452   1.000000"
      ]
     },
     "execution_count": 45,
     "metadata": {},
     "output_type": "execute_result"
    }
   ],
   "source": [
    "df.corr()"
   ]
  },
  {
   "cell_type": "markdown",
   "id": "dd0a55b1-21c5-48a5-9e66-ef065b42cd50",
   "metadata": {},
   "source": [
    "# Merubah Bilangan Bulat Ke Desimal"
   ]
  },
  {
   "cell_type": "markdown",
   "id": "70172a01-9e4b-4c3f-8cfa-e93dbd27be61",
   "metadata": {},
   "source": [
    "### Sebelum Atribut \"alt\" Diubah"
   ]
  },
  {
   "cell_type": "code",
   "execution_count": 46,
   "id": "b65f70b3-eb2b-4ad1-bc0e-dce3b18040b7",
   "metadata": {},
   "outputs": [
    {
     "data": {
      "text/plain": [
       "lat             float64\n",
       "lon             float64\n",
       "alt               int64\n",
       "is_broken          bool\n",
       "is_active          bool\n",
       "dot              object\n",
       "state            object\n",
       "city             object\n",
       "street           object\n",
       "country          object\n",
       "last_checked     object\n",
       "dtype: object"
      ]
     },
     "execution_count": 46,
     "metadata": {},
     "output_type": "execute_result"
    }
   ],
   "source": [
    "df.dtypes"
   ]
  },
  {
   "cell_type": "markdown",
   "id": "fb69f859-82a5-4193-acc5-e3d75142dcbe",
   "metadata": {},
   "source": [
    "### Setelah Atribut \"alt\" Diubah"
   ]
  },
  {
   "cell_type": "code",
   "execution_count": 50,
   "id": "e97c66ce-84bc-4300-b2bb-3ff36272a20a",
   "metadata": {},
   "outputs": [
    {
     "data": {
      "text/plain": [
       "lat             float64\n",
       "lon             float64\n",
       "alt             float64\n",
       "is_broken          bool\n",
       "is_active          bool\n",
       "dot              object\n",
       "state            object\n",
       "city             object\n",
       "street           object\n",
       "country          object\n",
       "last_checked     object\n",
       "dtype: object"
      ]
     },
     "execution_count": 50,
     "metadata": {},
     "output_type": "execute_result"
    }
   ],
   "source": [
    "df['alt'] = df['alt'].astype('float64')\n",
    "df.dtypes"
   ]
  },
  {
   "cell_type": "markdown",
   "id": "fb1acb3c-ff9c-4b88-971e-d81ed0e86b4d",
   "metadata": {},
   "source": [
    "# 10 Record Pertama Ber Atribut Angka"
   ]
  },
  {
   "cell_type": "code",
   "execution_count": 54,
   "id": "d7c3f65d-8bf7-46a2-ad43-ad0186bffad2",
   "metadata": {},
   "outputs": [
    {
     "data": {
      "text/html": [
       "<div>\n",
       "<style scoped>\n",
       "    .dataframe tbody tr th:only-of-type {\n",
       "        vertical-align: middle;\n",
       "    }\n",
       "\n",
       "    .dataframe tbody tr th {\n",
       "        vertical-align: top;\n",
       "    }\n",
       "\n",
       "    .dataframe thead th {\n",
       "        text-align: right;\n",
       "    }\n",
       "</style>\n",
       "<table border=\"1\" class=\"dataframe\">\n",
       "  <thead>\n",
       "    <tr style=\"text-align: right;\">\n",
       "      <th></th>\n",
       "      <th>lat</th>\n",
       "      <th>lon</th>\n",
       "      <th>alt</th>\n",
       "    </tr>\n",
       "  </thead>\n",
       "  <tbody>\n",
       "    <tr>\n",
       "      <th>0</th>\n",
       "      <td>-73.988281</td>\n",
       "      <td>40.718830</td>\n",
       "      <td>0</td>\n",
       "    </tr>\n",
       "    <tr>\n",
       "      <th>1</th>\n",
       "      <td>-74.005090</td>\n",
       "      <td>40.728794</td>\n",
       "      <td>0</td>\n",
       "    </tr>\n",
       "    <tr>\n",
       "      <th>2</th>\n",
       "      <td>-73.993408</td>\n",
       "      <td>40.729197</td>\n",
       "      <td>0</td>\n",
       "    </tr>\n",
       "    <tr>\n",
       "      <th>3</th>\n",
       "      <td>-73.985855</td>\n",
       "      <td>40.726555</td>\n",
       "      <td>0</td>\n",
       "    </tr>\n",
       "    <tr>\n",
       "      <th>4</th>\n",
       "      <td>-73.991692</td>\n",
       "      <td>40.691383</td>\n",
       "      <td>0</td>\n",
       "    </tr>\n",
       "    <tr>\n",
       "      <th>5</th>\n",
       "      <td>-73.982277</td>\n",
       "      <td>40.731014</td>\n",
       "      <td>0</td>\n",
       "    </tr>\n",
       "    <tr>\n",
       "      <th>6</th>\n",
       "      <td>-73.996726</td>\n",
       "      <td>40.737864</td>\n",
       "      <td>0</td>\n",
       "    </tr>\n",
       "    <tr>\n",
       "      <th>7</th>\n",
       "      <td>-73.990517</td>\n",
       "      <td>40.736977</td>\n",
       "      <td>0</td>\n",
       "    </tr>\n",
       "    <tr>\n",
       "      <th>8</th>\n",
       "      <td>-74.038700</td>\n",
       "      <td>40.726501</td>\n",
       "      <td>0</td>\n",
       "    </tr>\n",
       "    <tr>\n",
       "      <th>9</th>\n",
       "      <td>-74.043057</td>\n",
       "      <td>40.719843</td>\n",
       "      <td>0</td>\n",
       "    </tr>\n",
       "  </tbody>\n",
       "</table>\n",
       "</div>"
      ],
      "text/plain": [
       "         lat        lon  alt\n",
       "0 -73.988281  40.718830    0\n",
       "1 -74.005090  40.728794    0\n",
       "2 -73.993408  40.729197    0\n",
       "3 -73.985855  40.726555    0\n",
       "4 -73.991692  40.691383    0\n",
       "5 -73.982277  40.731014    0\n",
       "6 -73.996726  40.737864    0\n",
       "7 -73.990517  40.736977    0\n",
       "8 -74.038700  40.726501    0\n",
       "9 -74.043057  40.719843    0"
      ]
     },
     "execution_count": 54,
     "metadata": {},
     "output_type": "execute_result"
    }
   ],
   "source": [
    "dh = df.select_dtypes(include=np.number)\n",
    "dh.head(10)"
   ]
  },
  {
   "cell_type": "code",
   "execution_count": 63,
   "id": "9a571eb1-80f1-463a-9a7c-cd8d680e9c60",
   "metadata": {},
   "outputs": [],
   "source": [
    "df[['lat','lon','alt']].to_csv(\"angka.csv\")"
   ]
  }
 ],
 "metadata": {
  "kernelspec": {
   "display_name": "Python 3 (ipykernel)",
   "language": "python",
   "name": "python3"
  },
  "language_info": {
   "codemirror_mode": {
    "name": "ipython",
    "version": 3
   },
   "file_extension": ".py",
   "mimetype": "text/x-python",
   "name": "python",
   "nbconvert_exporter": "python",
   "pygments_lexer": "ipython3",
   "version": "3.10.7"
  }
 },
 "nbformat": 4,
 "nbformat_minor": 5
}
